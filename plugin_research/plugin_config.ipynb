{
 "cells": [
  {
   "cell_type": "markdown",
   "id": "31b28561-7910-4bdf-aefc-cc015e3cacb0",
   "metadata": {},
   "source": [
    "![diagram](Diagram.PNG)"
   ]
  },
  {
   "cell_type": "markdown",
   "id": "6cf8bfa7-a4ac-4175-b91f-fca9c0f569f5",
   "metadata": {},
   "source": [
    "## Plugin definition in common"
   ]
  },
  {
   "cell_type": "markdown",
   "id": "42dd8c4a-2d88-4881-8f34-6bd333caaff4",
   "metadata": {},
   "source": [
    "### Manifest"
   ]
  },
  {
   "cell_type": "code",
   "execution_count": 1,
   "id": "646a350e-92a8-4bc2-924c-2b2762efd680",
   "metadata": {},
   "outputs": [],
   "source": [
    "# Manifest example\n",
    "from manifests import BruteForceExploiterManifest\n",
    "from config_fields import NumericField, ListField\n",
    "\n",
    "manifest = BruteForceExploiterManifest(title=\"RDP Exploiter\", \n",
    "                                       plugin_name=\"rdp_exploiter\",  # Could be automatically created somehow?\n",
    "                                       description=\"Exploits RDP connections by brute-forcing. Warning! it's slow.\", \n",
    "                                       link_to_docs=\"www.beef.face\",\n",
    "                                       is_safe=True,\n",
    "                                       # Right now no exploiter needs these. Implementing the ability to add options would require a refactoring of plugin selectors to also trigger the view of these\n",
    "                                       # options\n",
    "                                       options={\n",
    "                                           \"scan_timeout\": NumericField(description=\"How much time to wait between each brute-force attempt. Increase to make the exploitation process quieter\",\n",
    "                                                                        title=\"RDP timeout\"),\n",
    "                                            \"rdp_versions\": ListField(all_values=[\"1.*\", \"2.*\", \"3.*\"],\n",
    "                                                                      title=\"Target versions\",\n",
    "                                                                      description=\"Which versions of RDP this plugin should target\")\n",
    "                                       })\n"
   ]
  },
  {
   "cell_type": "markdown",
   "id": "93423a51-0c1e-4802-910d-9a16b0bdf768",
   "metadata": {},
   "source": [
    "### Config"
   ]
  },
  {
   "cell_type": "code",
   "execution_count": 2,
   "id": "2de354f1-8254-4772-a2ea-7c0d68717fa2",
   "metadata": {},
   "outputs": [],
   "source": [
    "# Config example\n",
    "\n",
    "config = {\n",
    "    \"plugin_name\": \"rdp_exploiter\",\n",
    "    \"enabled\": True,\n",
    "    # Don't validate these for now, as we only need the hard-coded smb-timeout\n",
    "    \"options\":{\n",
    "        \"scan_timeout\": 10,\n",
    "        \"rdp_versions\": [\"2.*\", \"3.*\"]\n",
    "    }\n",
    "}"
   ]
  },
  {
   "cell_type": "markdown",
   "id": "b1affb6e-18b6-4a80-a31b-83f647f376fb",
   "metadata": {},
   "source": [
    "### Codebase"
   ]
  },
  {
   "cell_type": "code",
   "execution_count": 3,
   "id": "481cef27-ca9e-4a67-88d4-d3a78d08aab0",
   "metadata": {},
   "outputs": [],
   "source": [
    "# Plugin codebase example (notice how it uses the options)\n",
    "from time import sleep\n",
    "from common.plugin_registry import register_plugin\n",
    "\n",
    "def _scan_rdp_version(target):\n",
    "    pass\n",
    "\n",
    "def _attempt_brute_force(target, username, password):\n",
    "    pass\n",
    "\n",
    "def main(options):\n",
    "    if not _scan_rdp_version(options['target']['ip']) in options[\"rdp_versions\"]:\n",
    "        raise RuntimeError(f\"Target {options['target']} is running unsupported RDP version\")\n",
    "    for username, password in options['credentials']:\n",
    "        if _attempt_brute_force(target, username, password):\n",
    "            # Send exploitation event\n",
    "            return \n",
    "        sleep(options[\"scan_timeout\"])\n",
    "        \n",
    "# IDK how we're going to register it, it's just a mock\n",
    "register_plugin(manifest=manifest, config=config, entrypoint=main)"
   ]
  },
  {
   "cell_type": "markdown",
   "id": "62cff80f-05c0-432e-b1de-9540a3a8d23f",
   "metadata": {},
   "source": [
    "## Common actions\n",
    "\n",
    "## Backend"
   ]
  },
  {
   "cell_type": "markdown",
   "id": "9ab3d56c-aae5-405c-954c-0e8278f15ba3",
   "metadata": {},
   "source": [
    "### Loading the plugin"
   ]
  },
  {
   "cell_type": "markdown",
   "id": "fed57e5e-9475-4cde-8e48-898ee252c8d0",
   "metadata": {},
   "source": [
    "1. Load the plugin (make sure no other plugin with the same name already exists, validate the configuration against manifest)\n",
    "2. Store configuration in the repository"
   ]
  },
  {
   "cell_type": "markdown",
   "id": "17447811-6953-4247-a86e-b3d8fc8d975a",
   "metadata": {},
   "source": [
    "### Resetting to default\n",
    "\n",
    "1. Overwrite the configuration stored with the one in plugin definition"
   ]
  },
  {
   "cell_type": "markdown",
   "id": "a745107d-0102-4a27-98ae-6c35a97ba88f",
   "metadata": {},
   "source": [
    "### Fetching agent configuration\n",
    "\n",
    "1. Query an endpoint `/api/configuration/<plugin_name>`"
   ]
  },
  {
   "cell_type": "markdown",
   "id": "8263c8bb-e320-4184-8612-bc2f0ff09897",
   "metadata": {},
   "source": [
    "### Setting configuration\n",
    "\n",
    "1. Validate the configuration against manifest. \n",
    "2. Store the configuration in repository. It's probably best to have a repository per config, file name would correspond to the name of the plugin. "
   ]
  },
  {
   "cell_type": "markdown",
   "id": "98019d98-d40a-45b6-84a4-3a3e06013f19",
   "metadata": {},
   "source": [
    "## UI"
   ]
  },
  {
   "cell_type": "markdown",
   "id": "90b7eec4-c61c-4340-a3d6-ee0c41a64222",
   "metadata": {},
   "source": [
    "### Loading configuration page\n",
    "1. We need to create/mofify the schema based on manifests"
   ]
  },
  {
   "cell_type": "markdown",
   "id": "9008451c-02cb-4f71-af03-404f50429ee0",
   "metadata": {},
   "source": [
    "### Exporting configuration\n",
    "\n",
    "No changes"
   ]
  },
  {
   "cell_type": "markdown",
   "id": "5c4ea58a-1ebc-48ed-87b5-3ecb32132472",
   "metadata": {},
   "source": [
    "### Importing configuration\n",
    "\n",
    "Standard procedure, but when it comes to plugins it would be best to import as much as we can. So if we have a config and have imported a new plugin, that config won't go to waste. This is not priority 0 though"
   ]
  },
  {
   "cell_type": "markdown",
   "id": "263ca382-d3f6-4634-8759-8a5b441eee8a",
   "metadata": {},
   "source": [
    "### Submitting configuration\n",
    "\n",
    "Validation is a consideration once we implement plugin options.\n",
    "There's a list of things we could do for validation. My opinion is that back-end validation is enough. Features:\n",
    " - **Backend validation**. Back end validates the options using validators from the manifest. If there are any errors, the errors are displayed in the UI.\n",
    " - **Field type validation**. Make sure that field inputs correlate to the manifest, for example number field only accepts numbers, etc.\n",
    " - **Regex string**. If there's a regex validator in manifest we could use the same for front-end."
   ]
  },
  {
   "cell_type": "markdown",
   "id": "9d7dc570-1894-4de3-a8c6-18d578c0c47e",
   "metadata": {},
   "source": [
    "## Island "
   ]
  },
  {
   "cell_type": "markdown",
   "id": "249b2544-a8cf-4920-8602-2609267bd6a8",
   "metadata": {},
   "source": [
    "### Storing the configuration\n",
    "\n",
    "Validate the config against manifests\n",
    "\n",
    "## Requirements\n",
    "\n",
    "Agent needs to know the current config\n",
    "\n",
    "Island needs to know default and current config\n",
    "\n",
    "Interfaces need to know current, all available options and descriptions\n",
    "\n",
    "### Single config vs separate configurations\n",
    "\n",
    "Single config:\n",
    " - Less traffic\n",
    " - Would need to merge plugin configurations into it\n",
    " - Configurations are getting coupled\n",
    " \n",
    "Config per plugin:\n",
    " - Easier loading\n",
    " - Harder resetting and import/export\n",
    " - More changes, refactoring repository"
   ]
  },
  {
   "cell_type": "markdown",
   "id": "baf85304-e952-4b9f-85a7-1d587fd352db",
   "metadata": {},
   "source": [
    "# Agent\n",
    "\n",
    "## Running the plugins\n",
    "\n",
    "Agent needs to run the entrypoint of the plugin and pass the relevant options. Our config should end up pretty much the same, so doesn't matter much"
   ]
  }
 ],
 "metadata": {
  "kernelspec": {
   "display_name": "Python 3 (ipykernel)",
   "language": "python",
   "name": "python3"
  },
  "language_info": {
   "codemirror_mode": {
    "name": "ipython",
    "version": 3
   },
   "file_extension": ".py",
   "mimetype": "text/x-python",
   "name": "python",
   "nbconvert_exporter": "python",
   "pygments_lexer": "ipython3",
   "version": "3.7.9"
  }
 },
 "nbformat": 4,
 "nbformat_minor": 5
}
