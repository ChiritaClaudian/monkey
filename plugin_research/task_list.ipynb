{
 "cells": [
  {
   "cell_type": "markdown",
   "id": "0775d014-755c-492f-a09c-0bba1e2284c7",
   "metadata": {},
   "source": [
    "# Work needed\n",
    "\n",
    "There are 3 iterations we could do to develop the plugin infrastructure.\n",
    "\n",
    "**Plugins** is the bare minimmum we need to have one type of plugins rolling (presumably exploiters) with no options.\n",
    "\n",
    "**Plugin options** is to support more complex plugins(with options) and different types\n",
    "\n",
    "**Nice to have** is where \"nice to have\" things end up.\n",
    "\n",
    "\n",
    "## Plugins\n",
    "\n",
    "- [ ] Add for each plugin:\n",
    "    - [ ] Define configurations\n",
    "    - [ ] Define manifests (this includes the pydantic definitions). Do they need validation?\n",
    "- [ ] Load the plugins (into the island)\n",
    "    - [ ] Define plugin registry, figure out the loading procedure\n",
    "    - [ ] Load the plugins into repositories.We have to validate each config against manifest. We have to store the configs and manifests from the plugins, but also create and save a global configuration.\n",
    "- [ ] Change config reset procedure. On reset we need to re-create the global configuration from the plugin configs stored in repositories.\n",
    "- [ ] Reformat the schema based on the manifests\n",
    "    - [ ] Define manifest resource\n",
    "    - [ ] Create shema parsing method in UI (can be built on top of the prototype). This is the hard part, because of react, safety-checks, etc.\n",
    "\n",
    "## Plugin options\n",
    "\n",
    "- [ ] Define pydantic objects for field types to have back-end validation? or can we just validate agains the schema?\n",
    "- [ ] Validate options upon loading the plugin\n",
    "- [ ] Pass only required options to the plugin. This will need more infrastructure\n",
    "- [ ] Adjust the UI to support options\n",
    "    - [ ] Improve the prototype UI to resemble the UI design in PluginOptions.png. Not trivial, but doable.\n",
    "\n",
    "## Nice to have\n",
    "\n",
    "- [ ] Import as many plugins as we can, leave new ones default.\n",
    "- [ ] Build configuration schema. Configuration schema describes all configuration options. Since any interface needs to know these to configure, this comprehensive schema belongs on the back end.\n",
    "    - [ ] Define the common schema (schema defining the non-plugin configuration options)\n",
    "    - [ ] Add plugin manifests to the schema based on plugin type\n",
    "    - [ ] Convert all interfaces (hopefully only web GUI) to fetch this schema and convert it to whatever they understand/expect\n",
    "- [ ] Refactor the config to use the official `react-jsonschema-form` package. Our current package `react-jsonschema-form-bs4` is 3 years old and unmaintained.\n",
    "- [ ] Consider adding more formats common to IM domain (port? what else could we predict in future plugins?), apply the ones that are already available (we redifined IPv4, when a validator for that is already available)\n",
    "- [ ] Consider adding common options to definitions. If multiple exploiters need selection between OS, that selection could just be a definition.\n"
   ]
  }
 ],
 "metadata": {
  "kernelspec": {
   "display_name": "Python 3 (ipykernel)",
   "language": "python",
   "name": "python3"
  },
  "language_info": {
   "codemirror_mode": {
    "name": "ipython",
    "version": 3
   },
   "file_extension": ".py",
   "mimetype": "text/x-python",
   "name": "python",
   "nbconvert_exporter": "python",
   "pygments_lexer": "ipython3",
   "version": "3.7.7"
  }
 },
 "nbformat": 4,
 "nbformat_minor": 5
}
